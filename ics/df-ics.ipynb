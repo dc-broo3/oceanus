{
 "cells": [
  {
   "cell_type": "code",
   "execution_count": 145,
   "id": "fac819f7-cbde-435f-91a4-6a91a3c8f62f",
   "metadata": {
    "tags": []
   },
   "outputs": [],
   "source": [
    "import agama\n",
    "import astropy.units as u\n",
    "import gala.dynamics as gd\n",
    "import gala.potential as gp\n",
    "import matplotlib as mpl\n",
    "import matplotlib.pyplot as plt\n",
    "import yaml\n",
    "\n",
    "import os\n",
    "os.environ[\"PATH\"] += os.pathsep + \"/Library/TeX/texbin\"\n",
    "plt.style.use('../analysis/my_standard.mplstyle')\n",
    "\n",
    "%matplotlib inline\n",
    "import numpy as np\n",
    "from gala.units import galactic\n",
    "\n",
    "agama.setUnits(length=u.kpc, mass=u.Msun, time=u.Myr)"
   ]
  },
  {
   "cell_type": "markdown",
   "id": "30489f3f-2e2c-4134-b581-9a3ad76c7485",
   "metadata": {},
   "source": [
    "I'm more used to the Gala interface for creating potential models, so for this example I make a Gala NFW model and then convert to Agama:\n",
    "\n",
    " - Updated the potential to match Lilleegen+23 (r_s = 12.8kpc, c = 15.3, v_c_solar = 184 km/s, V_vir = ˜130 km/s)"
   ]
  },
  {
   "cell_type": "code",
   "execution_count": 102,
   "id": "c5d9fb80-ac0b-45e1-8d35-0148e19b734e",
   "metadata": {
    "tags": []
   },
   "outputs": [],
   "source": [
    "gala_pot = gp.NFWPotential.from_circular_velocity(\n",
    "    v_c=184 * u.km / u.s, r_s=8.249 * u.kpc, units=galactic)\n",
    "agama_pot = gala_pot.as_interop(\"agama\")"
   ]
  },
  {
   "cell_type": "code",
   "execution_count": 108,
   "id": "de03eac0-78ce-4acc-b0cd-7f79b45160f6",
   "metadata": {},
   "outputs": [
    {
     "data": {
      "text/plain": [
       "[<matplotlib.lines.Line2D at 0x2a39ea190>]"
      ]
     },
     "execution_count": 108,
     "metadata": {},
     "output_type": "execute_result"
    },
    {
     "data": {
      "image/png": "[encoded data removed]",
      "text/plain": [
       "<Figure size 640x480 with 1 Axes>"
      ]
     },
     "metadata": {},
     "output_type": "display_data"
    }
   ],
   "source": [
    "rs = np.linspace(0,500, 300)\n",
    "empty = np.zeros(shape=(len(rs),3))\n",
    "empty[:,0] = rs\n",
    "plt.plot(rs, gala_pot.circular_velocity(empty.T))\n",
    "# print(gala_pot.circular_velocity(np.array([195,0,0])))"
   ]
  },
  {
   "cell_type": "markdown",
   "id": "f768e1e1-f160-4d0b-9388-50be675857fd",
   "metadata": {},
   "source": [
    "We don't need to generate samples from a self-consistent DF, so we can pick any density profile we want for the tracers we will sample. Here the \"tracers\" are the positions and velocities of the stream progenitors. We'll use a Dehnen (power law) model with a scale radius in kpc:"
   ]
  },
  {
   "cell_type": "code",
   "execution_count": 109,
   "id": "ab008583-a818-4a78-8a5a-bdea9efe6666",
   "metadata": {
    "tags": []
   },
   "outputs": [],
   "source": [
    "dens = agama.Density(type=\"Dehnen\", scaleRadius=15)"
   ]
  },
  {
   "cell_type": "markdown",
   "id": "121ce59c-9204-4733-8cfa-75a1f1a58745",
   "metadata": {},
   "source": [
    "For the DF (i.e. the energy distribution), we use a quasi-spherical, isotropic Osipkov-Merritt model:"
   ]
  },
  {
   "cell_type": "code",
   "execution_count": 110,
   "id": "bc7ddc41-dd36-418b-b215-76bf925fa4c0",
   "metadata": {
    "tags": []
   },
   "outputs": [],
   "source": [
    "df = agama.DistributionFunction(\n",
    "    type=\"QuasiSpherical\", potential=agama_pot, density=dens)"
   ]
  },
  {
   "cell_type": "code",
   "execution_count": 111,
   "id": "e15bfd84-8646-4a49-a465-da96998c3659",
   "metadata": {
    "tags": []
   },
   "outputs": [],
   "source": [
    "gm = agama.GalaxyModel(agama_pot, df)"
   ]
  },
  {
   "cell_type": "markdown",
   "id": "0545320b-df2c-455d-ae4a-5feb83b639c6",
   "metadata": {},
   "source": [
    "Generate 10,000 samples from this DF:"
   ]
  },
  {
   "cell_type": "code",
   "execution_count": 319,
   "id": "8307f08c-27c4-4713-9141-f43e39da9aa7",
   "metadata": {
    "tags": []
   },
   "outputs": [],
   "source": [
    "Nsamples = 100\n",
    "xv = gm.sample(Nsamples)[0]"
   ]
  },
  {
   "cell_type": "markdown",
   "id": "442b171a-7e68-4424-9998-731190389762",
   "metadata": {},
   "source": [
    "Generate some mock masses and scale radii for the progenitors"
   ]
  },
  {
   "cell_type": "code",
   "execution_count": 320,
   "id": "cfae8909-b67b-4d44-a488-ae9a68756b79",
   "metadata": {},
   "outputs": [],
   "source": [
    "np.random.seed(1)\n",
    "\n",
    "# Masses\n",
    "\n",
    "mu_low_mass, mu_high_mass = 1_0000, 1_000_000 #solar masses \n",
    "std_low_mass, std_high_mass = mu_low_mass**0.5, mu_high_mass**0.5\n",
    "\n",
    "samples_low_mass = np.random.normal(mu_low_mass, std_low_mass, int(Nsamples/2))\n",
    "samples_high_mass = np.random.normal(mu_high_mass, std_high_mass, int(Nsamples/2))\n",
    "prog_masses = np.concatenate((samples_low_mass, samples_high_mass))[:,np.newaxis]\n",
    "\n",
    "# Scale radii\n",
    "\n",
    "mu_low_scale, mu_high_scale = 0.005, 0.5 #kpc\n",
    "std_low_scale, std_high_scale = 0.001, 0.1\n",
    "\n",
    "samples_low_scale = np.random.normal(mu_low_scale, std_low_scale, int(Nsamples/2))\n",
    "samples_high_scale = np.random.normal(mu_high_scale, std_high_scale, int(Nsamples/2))\n",
    "prog_scales = np.concatenate((samples_low_scale, samples_high_scale))[:,np.newaxis]\n",
    "\n",
    "prog_mass_scale = np.concatenate([prog_masses, prog_scales], axis=1)\n",
    "\n",
    "np.random.shuffle(prog_mass_scale)"
   ]
  },
  {
   "cell_type": "code",
   "execution_count": 321,
   "id": "44809576-028a-4840-8666-7e8b77ffc641",
   "metadata": {},
   "outputs": [],
   "source": [
    "for i in range(len(xv)):\n",
    "    yaml_data = {'Tbegin': -3.0, \n",
    "                 'Tfinal': 0.0, \n",
    "                 'dtmin': 0.002, \n",
    "                 'prog_mass': prog_mass_scale[i].tolist()[0],\n",
    "                 'prog_scale': prog_mass_scale[i].tolist()[1], \n",
    "                 'prog_ics':xv[i].tolist(),\n",
    "                 'strip_rate': 4,\n",
    "                 'haloflag': 63,\n",
    "                 'lmcflag': 63,\n",
    "                 'discflag': 63,\n",
    "                 'discframe': False,\n",
    "                 'static_mwh': False}\n",
    "    file_name = f\"test-files/param_{i}.yaml\"\n",
    "    with open(file_name, 'w') as yaml_file:\n",
    "        yaml.dump(yaml_data, yaml_file, default_flow_style=False)"
   ]
  },
  {
   "cell_type": "markdown",
   "id": "d90c97c3-634d-4af7-8793-9ec177eb3157",
   "metadata": {},
   "source": [
    "The positions and velocities in what is returned are in 6-vectors with pos in kpc, vel in kpc/Myr. I have a class in Gala for interacting with phase-space coordinates like this:"
   ]
  },
  {
   "cell_type": "code",
   "execution_count": 113,
   "id": "f2fbb847-fa7f-44ce-8bcb-6d23471515dd",
   "metadata": {
    "tags": []
   },
   "outputs": [],
   "source": [
    "w0 = gd.PhaseSpacePosition.from_w(xv.T, units=galactic)"
   ]
  },
  {
   "cell_type": "markdown",
   "id": "df35cf7c-eb3a-4b52-9efe-6eb2526ca19e",
   "metadata": {},
   "source": [
    "Whenever I sample from a DF, I like to just verify that the samples succeeded. One check we can make is that if we integrate the orbits of the tracers, the distribution at the final orbital timestep looks the same as the initial distribution. I use Gala to do the orbit integration (`store_all=False` tells Gala not to store all of the intermediate timesteps, and it just integrates all of the orbits to the final time and returns that):"
   ]
  },
  {
   "cell_type": "code",
   "execution_count": 117,
   "id": "d80e7b86-5e43-4064-89b1-6ba676989297",
   "metadata": {
    "tags": []
   },
   "outputs": [],
   "source": [
    "wf = gala_pot.integrate_orbit(\n",
    "    w0, dt=0.5 * u.Myr, t1=0, t2=2 * u.Gyr, store_all=False)[0]"
   ]
  },
  {
   "cell_type": "markdown",
   "id": "e372cdcc-6f0a-4d24-8989-956f422300b0",
   "metadata": {},
   "source": [
    "Here we can check that the initial and final conditions are consisitent:"
   ]
  },
  {
   "cell_type": "code",
   "execution_count": 118,
   "id": "68cd13f0-4ce2-4616-8741-ad26bd7758f5",
   "metadata": {
    "tags": []
   },
   "outputs": [
    {
     "data": {
      "text/plain": [
       "<matplotlib.legend.Legend at 0x2a39b22e0>"
      ]
     },
     "execution_count": 118,
     "metadata": {},
     "output_type": "execute_result"
    },
    {
     "data": {
      "image/png": "[encoded data removed]",
      "text/plain": [
       "<Figure size 640x480 with 1 Axes>"
      ]
     },
     "metadata": {},
     "output_type": "display_data"
    }
   ],
   "source": [
    "bins = np.linspace(0, 300, 64)\n",
    "_ = plt.hist(\n",
    "    w0.physicsspherical.r.value,\n",
    "    bins=bins,\n",
    "    histtype=\"step\",\n",
    "    color=\"tab:green\",\n",
    "    lw=2,\n",
    "    label=\"initial conditions\",\n",
    ")\n",
    "_ = plt.hist(\n",
    "    wf.physicsspherical.r.value,\n",
    "    bins=bins,\n",
    "    histtype=\"step\",\n",
    "    color=\"tab:red\",\n",
    "    lw=2,\n",
    "    label=\"final positions\",\n",
    ")\n",
    "plt.legend(loc=\"best\", fontsize=18)"
   ]
  },
  {
   "cell_type": "markdown",
   "id": "600d07d7-3dd9-4f56-aea2-6d2e7d892a31",
   "metadata": {},
   "source": [
    "When we chose a DF and start sampling, we'll probably want to decide on some truncation criteria to decide which streams to actually run. For example, a progenitor at 200 kpc that never gets close enough to strip is not worth simulating because it would never form a dense stream. We might want to require that the pericenter radius is < 10 kpc or something. A topic for us to discuss!"
   ]
  },
  {
   "cell_type": "code",
   "execution_count": null,
   "id": "081c7195-cfa7-4886-a273-6f9d78c4bc27",
   "metadata": {},
   "outputs": [],
   "source": []
  }
 ],
 "metadata": {
  "kernelspec": {
   "display_name": "Python 3 (ipykernel)",
   "language": "python",
   "name": "python3"
  },
  "language_info": {
   "codemirror_mode": {
    "name": "ipython",
    "version": 3
   },
   "file_extension": ".py",
   "mimetype": "text/x-python",
   "name": "python",
   "nbconvert_exporter": "python",
   "pygments_lexer": "ipython3",
   "version": "3.9.18"
  }
 },
 "nbformat": 4,
 "nbformat_minor": 5
}
